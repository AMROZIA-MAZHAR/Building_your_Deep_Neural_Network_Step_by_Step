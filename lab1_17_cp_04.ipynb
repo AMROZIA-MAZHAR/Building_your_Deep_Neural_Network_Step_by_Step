{
  "nbformat": 4,
  "nbformat_minor": 0,
  "metadata": {
    "colab": {
      "name": "lab1_17-cp-04.ipynb",
      "provenance": [],
      "collapsed_sections": [],
      "authorship_tag": "ABX9TyOrBAkvUV33KdcC6HsHrVpK",
      "include_colab_link": true
    },
    "kernelspec": {
      "name": "python3",
      "display_name": "Python 3"
    }
  },
  "cells": [
    {
      "cell_type": "markdown",
      "metadata": {
        "id": "view-in-github",
        "colab_type": "text"
      },
      "source": [
        "<a href=\"https://colab.research.google.com/github/AMROZIA-MAZHAR/Building_your_Deep_Neural_Network_Step_by_Step/blob/master/lab1_17_cp_04.ipynb\" target=\"_parent\"><img src=\"https://colab.research.google.com/assets/colab-badge.svg\" alt=\"Open In Colab\"/></a>"
      ]
    },
    {
      "cell_type": "markdown",
      "metadata": {
        "id": "1bxJNJRCTJGG"
      },
      "source": [
        "Python vs C++   \n",
        "Python is a flexible, object-oriented, and open source programming language while C++ was created as an extension of C and it  is a general purpose programming language.  \n",
        "Python supports Garbage Collection while C++\tDoes not support Garbage Collection.   \n",
        "In python easy to write code while  c++\tis not easy in contrast to Python due to complex syntax.  \n",
        "In python variables are accessible even outside the loop while in C++\tvariables scope is limited to within the loops."
      ]
    },
    {
      "cell_type": "code",
      "metadata": {
        "id": "Mz1Cq2khRPRW"
      },
      "source": [
        "for i in range(10,21):\n",
        "    print(i)"
      ],
      "execution_count": null,
      "outputs": []
    },
    {
      "cell_type": "code",
      "metadata": {
        "id": "B7vZGE3gSO3c"
      },
      "source": [
        "states = ['Minnesota','Texas','New York','Utah','Hawaii']\n",
        "states.append('California')\n",
        "print(states)"
      ],
      "execution_count": null,
      "outputs": []
    },
    {
      "cell_type": "code",
      "metadata": {
        "id": "8NpuDQ2RSvWF"
      },
      "source": [
        "import numpy as np\n",
        "a = np.array([[1,2,3],[4,5,6],[6,7,8]])\n",
        "a.shape =(3,3)\n",
        "print(a)"
      ],
      "execution_count": null,
      "outputs": []
    },
    {
      "cell_type": "markdown",
      "metadata": {
        "id": "JZg5ynDsYWet"
      },
      "source": [
        "Modules enables to split parts of program in different files for easier maintenance and better performance. and increase reusability of code. we simply define funtions in module and import module. module can be imported y another program.\n"
      ]
    },
    {
      "cell_type": "code",
      "metadata": {
        "id": "atlVaRSGXi53"
      },
      "source": [
        "mylist = [1,1,2,3,4,4,5]\n",
        "print(mylist)\n",
        "newset = set(mylist)\n",
        "print(newset)\n",
        "newlist = list(newset)\n",
        "print(newlist)\n",
        "# remove duplicate elements"
      ],
      "execution_count": null,
      "outputs": []
    },
    {
      "cell_type": "code",
      "metadata": {
        "id": "SkccuxoQlw34"
      },
      "source": [
        "import numpy as np\n",
        "from numpy.linalg import inv\n",
        "a = np.empty([5,5], dtype= int)\n",
        "print(a)\n",
        "b = np.transpose(a,axes=None)\n",
        "print(b)\n",
        "# c = inv(a)\n",
        "c = np.linalg.det(a)\n",
        "print(c)\n",
        "\n",
        "# non invertible bcz determinant is 0"
      ],
      "execution_count": null,
      "outputs": []
    },
    {
      "cell_type": "code",
      "metadata": {
        "id": "QvMaD83Bh8bg"
      },
      "source": [
        "a = [1,2,3,4,2,3,5]\n",
        "b = []\n",
        "for i in a:\n",
        "  if i>2:\n",
        "    b.append(i)\n",
        "print(b)\n",
        "# list comprehension\n",
        "c =[x for x in a if x>2]\n",
        "print(c)"
      ],
      "execution_count": null,
      "outputs": []
    }
  ]
}